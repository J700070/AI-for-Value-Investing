{
 "cells": [
  {
   "cell_type": "code",
   "execution_count": 7,
   "metadata": {},
   "outputs": [],
   "source": [
    "import pandas as pd\n",
    "import numpy as np\n",
    "import os\n",
    "from langchain.agents import create_csv_agent\n",
    "from langchain.llms import OpenAI\n",
    "import matplotlib.pyplot as plt"
   ]
  },
  {
   "cell_type": "code",
   "execution_count": 8,
   "metadata": {},
   "outputs": [
    {
     "name": "stdout",
     "output_type": "stream",
     "text": [
      "c:\\Users\\juani\\Desktop\\AI-for-Value-Investing\\Src\\Data Preparation\n"
     ]
    }
   ],
   "source": [
    "agent = create_csv_agent(OpenAI(temperature=0), \n",
    "                            'Data/tickers.csv', \n",
    "                            model_name=\"gpt-4-32k\",\n",
    "                            verbose=True)"
   ]
  },
  {
   "cell_type": "code",
   "execution_count": 10,
   "metadata": {},
   "outputs": [
    {
     "name": "stdout",
     "output_type": "stream",
     "text": [
      "Fetched stock tickers from file\n"
     ]
    }
   ],
   "source": [
    "def read_stock_tickers_from_file(file_name='../../Data/tickers.csv'):\n",
    "    stock_tickers = []\n",
    "    df = pd.read_csv(file_name, header=0, usecols=[0])\n",
    "    stock_tickers = df.values.tolist()\n",
    "    stock_tickers = [item for sublist in stock_tickers for item in sublist]\n",
    "    return stock_tickers\n",
    "\n",
    "stock_tickers = read_stock_tickers_from_file()\n",
    "print(\"Fetched stock tickers from file\")"
   ]
  },
  {
   "cell_type": "code",
   "execution_count": null,
   "metadata": {},
   "outputs": [],
   "source": []
  }
 ],
 "metadata": {
  "kernelspec": {
   "display_name": "py39",
   "language": "python",
   "name": "python3"
  },
  "language_info": {
   "codemirror_mode": {
    "name": "ipython",
    "version": 3
   },
   "file_extension": ".py",
   "mimetype": "text/x-python",
   "name": "python",
   "nbconvert_exporter": "python",
   "pygments_lexer": "ipython3",
   "version": "3.9.16"
  },
  "orig_nbformat": 4
 },
 "nbformat": 4,
 "nbformat_minor": 2
}
